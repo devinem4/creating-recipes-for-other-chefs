{
 "cells": [
  {
   "cell_type": "markdown",
   "metadata": {
    "slideshow": {
     "slide_type": "slide"
    }
   },
   "source": [
    "<div class='title'>Creating Recipes For Other Chef's</div>\n",
    "<div class='sub-title'>Practical guide on using containzeration for data reproducibility</div>\n",
    "<img class='title' src='../assets/title_slide.png'/>"
   ]
  },
  {
   "cell_type": "markdown",
   "metadata": {
    "slideshow": {
     "slide_type": "slide"
    }
   },
   "source": [
    "<div class=\"slide_header\">\n",
    "    Mise En Place\n",
    "    <img src='../assets/title_bar.png'/>\n",
    "</div>"
   ]
  },
  {
   "cell_type": "markdown",
   "metadata": {},
   "source": [
    "<div>\n",
    "    <ul>\n",
    "        <li>DockerHub Account <a href=https://hub.docker.com/signup>https://hub.docker.com/signup</a></li>\n",
    "        <li>Docker installed</li>\n",
    "        <ul type = \"circle\">\n",
    "            <li>Mac <a href=https://hub.docker.com/editions/community/docker-ce-desktop-mac>https://hub.docker.com/editions/community/docker-ce-desktop-mac</a></li>\n",
    "            <li>Windows <a href=https://hub.docker.com/editions/community/docker-ce-desktop-windows>https://hub.docker.com/editions/community/docker-ce-desktop-windows</a></li>\n",
    "        </ul>\n",
    "        <li>GitHub Account https://github.com/join?source=header-home</li>\n",
    "        <li>Link GitHub to DockerHub</li>\n",
    "    </ul>\n",
    "</div>"
   ]
  },
  {
   "cell_type": "markdown",
   "metadata": {
    "slideshow": {
     "slide_type": "slide"
    }
   },
   "source": [
    "<div class=\"slide_header\">\n",
    "    Steps for Today's Recipe\n",
    "    <img src='../assets/title_bar.png'/>\n",
    "</div>"
   ]
  },
  {
   "cell_type": "markdown",
   "metadata": {},
   "source": [
    "<div>\n",
    "    <ul>\n",
    "        <li>Get Ingredients</li>\n",
    "        <li>Set Up Equipment</li>\n",
    "        <li>Create a Shopping List</li>\n",
    "        <li>Create Recipe Directions</li>\n",
    "        <li>Make Dish</li>\n",
    "        <li>Taste Test</li>\n",
    "        <li>Serve to Other Chefs</li>\n",
    "    </ul>\n",
    "</div>"
   ]
  },
  {
   "cell_type": "markdown",
   "metadata": {
    "slideshow": {
     "slide_type": "slide"
    }
   },
   "source": [
    "<div class=\"slide_header\">\n",
    "    Get Ingredients\n",
    "    <img src='../assets/title_bar.png'/>\n",
    "</div>"
   ]
  },
  {
   "attachments": {},
   "cell_type": "markdown",
   "metadata": {},
   "source": [
    "<div>\n",
    "    <ul>\n",
    "        <li>Clone repo <a href=https://github.com/bryan-nice/creating-recipes-for-other-chefs.git>https://github.com/bryan-nice/creating-recipes-for-other-chefs.git</a></li>\n",
    "        <li>R example</li>\n",
    "        <li>Python example</li>\n",
    "    </ul>\n",
    "</div>"
   ]
  },
  {
   "cell_type": "markdown",
   "metadata": {
    "slideshow": {
     "slide_type": "slide"
    }
   },
   "source": [
    "<div class=\"slide_header\">\n",
    "    Set Up Equipment\n",
    "    <img src='../assets/title_bar.png'/>\n",
    "</div>"
   ]
  },
  {
   "cell_type": "markdown",
   "metadata": {},
   "source": [
    "<div>\n",
    "    <ul>\n",
    "        <li>Create GitHub repo</li>\n",
    "        <li>Create DockerHub repo and link GitHub repo to it</li>\n",
    "        <li>Clone GitHub repo</li>\n",
    "        <li>Set up folder organization for repo</li>\n",
    "    </ul>\n",
    "</div>"
   ]
  },
  {
   "cell_type": "markdown",
   "metadata": {
    "slideshow": {
     "slide_type": "slide"
    }
   },
   "source": [
    "<div class=\"slide_header\">\n",
    "    Create Shopping List\n",
    "    <img src='../assets/title_bar.png'/>\n",
    "</div>"
   ]
  },
  {
   "cell_type": "markdown",
   "metadata": {},
   "source": [
    "<div>\n",
    "    <ul>\n",
    "        <li>Open model code</li>\n",
    "        <ul type = \"circle\">\n",
    "            <li>Identify Libraries</li>\n",
    "            <li>How data is inputted?</li>\n",
    "            <li>How data is outputted?</li>\n",
    "        </ul>\n",
    "    </ul>\n",
    "</div>"
   ]
  },
  {
   "cell_type": "markdown",
   "metadata": {
    "slideshow": {
     "slide_type": "slide"
    }
   },
   "source": [
    "<div class=\"slide_header\">\n",
    "    Create Recipe Directions\n",
    "    <img src='../assets/title_bar.png'/>\n",
    "</div>"
   ]
  },
  {
   "cell_type": "markdown",
   "metadata": {},
   "source": [
    "<div>\n",
    "    <ul>\n",
    "        <li>Create a DockerFile</li>\n",
    "        <li>Makefile</li>\n",
    "    </ul>\n",
    "</div>"
   ]
  },
  {
   "cell_type": "markdown",
   "metadata": {
    "slideshow": {
     "slide_type": "slide"
    }
   },
   "source": [
    "<div class=\"slide_header\">\n",
    "    Make Dish\n",
    "    <img src='../assets/title_bar.png'/>\n",
    "</div>"
   ]
  },
  {
   "cell_type": "markdown",
   "metadata": {},
   "source": [
    "<div>\n",
    "    <ul>\n",
    "        <li>make dish</li>\n",
    "    </ul>\n",
    "</div>"
   ]
  },
  {
   "cell_type": "markdown",
   "metadata": {
    "slideshow": {
     "slide_type": "slide"
    }
   },
   "source": [
    "<div class=\"slide_header\">\n",
    "    Taste Test\n",
    "    <img src='../assets/title_bar.png'/>\n",
    "</div>"
   ]
  },
  {
   "cell_type": "markdown",
   "metadata": {},
   "source": [
    "<div>\n",
    "    <ul>\n",
    "        <li>docker run -it --rm -v ${PWD}:/prep_table my_recipe</li>\n",
    "        <li><a href=http://localhost:8888/lab>http://localhost:8888/lab</a></li>\n",
    "        <li>Check results</li>\n",
    "    </ul>\n",
    "</div>"
   ]
  },
  {
   "cell_type": "markdown",
   "metadata": {
    "slideshow": {
     "slide_type": "slide"
    }
   },
   "source": [
    "<div class=\"slide_header\">\n",
    "    Serve to Other Chefs\n",
    "    <img src='../assets/title_bar.png'/>\n",
    "</div>"
   ]
  },
  {
   "attachments": {},
   "cell_type": "markdown",
   "metadata": {},
   "source": [
    "<div>\n",
    "    <ul>\n",
    "        <li>git add</li>\n",
    "        <li>git commit -m “finish my first recipe for a chef”</li>\n",
    "        <li>git push</li>\n",
    "        <li>Check GitHub Repo</li>\n",
    "        <li>Check DockerHub Repo</li>\n",
    "    </ul>\n",
    "</div>"
   ]
  }
 ],
 "metadata": {
  "celltoolbar": "Slideshow",
  "kernelspec": {
   "display_name": "Python 3",
   "language": "python",
   "name": "python3"
  },
  "language_info": {
   "codemirror_mode": {
    "name": "ipython",
    "version": 3
   },
   "file_extension": ".py",
   "mimetype": "text/x-python",
   "name": "python",
   "nbconvert_exporter": "python",
   "pygments_lexer": "ipython3",
   "version": "3.7.3"
  },
  "livereveal": {
   "autolaunch": true
  },
  "rise": {
   "enable_chalkboard": true,
   "height": "10%",
   "overlay": "<img class='background_bottom_left' src='../assets/sch.png'/><img class='background_bottom_right' src='../assets/side.png'/>"
  }
 },
 "nbformat": 4,
 "nbformat_minor": 2
}
