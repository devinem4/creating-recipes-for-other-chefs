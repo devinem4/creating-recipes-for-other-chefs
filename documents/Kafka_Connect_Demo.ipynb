{
 "cells": [
  {
   "cell_type": "markdown",
   "metadata": {
    "slideshow": {
     "slide_type": "slide"
    }
   },
   "source": [
    "<div class='title'>Kafka Connect Demo<br>SCEA Architecture, DevOps, and Neuron</div>\n",
    "<img class='title' src='../assets/title.png'/>"
   ]
  },
  {
   "cell_type": "markdown",
   "metadata": {
    "slideshow": {
     "slide_type": "slide"
    }
   },
   "source": [
    "<div class=\"slide_header\">\n",
    "    Architecture Overview:\n",
    "    <img class='background_header' src='../assets/title_bar.png'/>\n",
    "</div>"
   ]
  },
  {
   "cell_type": "markdown",
   "metadata": {},
   "source": [
    "<img class=\"material\" src=\"../assets/architecture.png\"/>"
   ]
  },
  {
   "cell_type": "markdown",
   "metadata": {
    "slideshow": {
     "slide_type": "slide"
    }
   },
   "source": [
    "<div class=\"slide_header\">\n",
    "    Kafka Source Connector: Oracle JDBC\n",
    "    <img class='background_header' src='../assets/title_bar.png'/>\n",
    "</div>"
   ]
  },
  {
   "cell_type": "markdown",
   "metadata": {
    "cell_style": "center",
    "slideshow": {
     "slide_type": "-"
    }
   },
   "source": [
    "```\n",
    "{\n",
    "    \"name\": \"\",\n",
    "    \"config\": {\n",
    "        \"topic\": \"\",\n",
    "        \"connector.class\": \"io.confluent.connect.jdbc.JdbcSourceConnector\",\n",
    "        \"numeric.mapping\": \"best_fit\",\n",
    "        \"tasks.max\": \"1\",\n",
    "        \"table.poll.interval.ms\": \"60000\",\n",
    "        \"query\": \"\",\n",
    "        \"connection.url\": \"\",\n",
    "        \"connection.user\": \"\",\n",
    "        \"connection.password\": \"\",\n",
    "        \"mode\": \"bulk\",\n",
    "        \"validate.non.null\": \"false\",\n",
    "        \"dialect.name\": \"OracleDatabaseDialect\",\n",
    "        \"key.converter\": \"io.confluent.connect.avro.AvroConverter\",\n",
    "        \"key.converter.schemas.enable\": \"false\",\n",
    "        \"key.converter.schema.registry.url\": \"http:// bluedata.schema :8081\",\n",
    "        \"key.converter.auto.register.schemas\": \"true\",\n",
    "        \"key.subject.name.strategy\": \"TopicNameStrategy\",\n",
    "        \"value.converter\": \"io.confluent.connect.avro.AvroConverter\",\n",
    "        \"value.converter.schemas.enable\": \"false\",\n",
    "        \"value.converter.schema.registry.url\": \"http://bluedata.schema:8081\",\n",
    "        \"value.converter.auto.register.schemas\": \"true\",\n",
    "        \"value.subject.name.strategy\": \"TopicNameStrategy\",\n",
    "        \"errors.log.enable\": \"true\",\n",
    "        \"errors.log.include.messages\": \"true\"\n",
    "    }\n",
    "}\n",
    "```"
   ]
  },
  {
   "cell_type": "markdown",
   "metadata": {
    "slideshow": {
     "slide_type": "slide"
    }
   },
   "source": [
    "<div class=\"slide_header\">\n",
    "    Kafka Sink Connector: Netezza JDBC\n",
    "    <img class='background_header' src='../assets/title_bar.png'/>\n",
    "</div>"
   ]
  },
  {
   "cell_type": "markdown",
   "metadata": {},
   "source": [
    "```\n",
    "{\n",
    "  \"name\": \"\",\n",
    "  \"config\": {\n",
    "    \"connector.class\": \"io.confluent.connect.jdbc.JdbcSinkConnector\",\n",
    "    \"dialect.name\": \"MySqlDatabaseDialect\",\n",
    "    \"tasks.max\": \"1\",\n",
    "    \"table.name.format\": \"\",\n",
    "    \"table.poll.interval.ms\": \"60000\",\n",
    "    \"topics\": \"\",\n",
    "    \"auto.create\": \"true\",\n",
    "    \"connection.url\": \"jdbc:netezza://ppledw01.childrens.sea.kids:5480/<DB>\",\n",
    "    \"connection.user\": \"\",\n",
    "    \"connection.password\": \"\",\n",
    "    \"validate.non.null\": \"false\",\n",
    "    \"key.converter\": \"io.confluent.connect.avro.AvroConverter\",\n",
    "    \"key.converter.schemas.enable\": ”false\",\n",
    "    \"key.converter.schema.registry.url\": \"http:// bluedata.schema :8081\",\n",
    "    \"key.converter.auto.register.schemas\": \"true\",\n",
    "    \"key.subject.name.strategy\": \"TopicNameStrategy\",\n",
    "    \"value.converter\": \"io.confluent.connect.avro.AvroConverter\",\n",
    "    \"value.converter.schemas.enable\": ”false\",\n",
    "    \"value.converter.schema.registry.url\": \"http:// bluedata.schema :8081\",\n",
    "    \"errors.log.enable\": \"true\",\n",
    "    \"errors.log.include.messages\": \"true\"\n",
    "  }\n",
    "}\n",
    "```"
   ]
  },
  {
   "cell_type": "markdown",
   "metadata": {
    "slideshow": {
     "slide_type": "slide"
    }
   },
   "source": [
    "<div class=\"slide_header\">\n",
    "    Kafka Sink Connector: HDFS & Hive\n",
    "    <img class='background_header' src='../assets/title_bar.png'/>\n",
    "</div>"
   ]
  },
  {
   "cell_type": "markdown",
   "metadata": {},
   "source": [
    "```\n",
    "{\n",
    "  \"name\": \"HIVE\",\n",
    "  \"config\": {\n",
    "    \"connector.class\": \"io.confluent.connect.hdfs.HdfsSinkConnector\",\n",
    "    \"tasks.max\": \"1\",\n",
    "    \"topics\": \"\",\n",
    "    \"topics.dir\": \"\",\n",
    "    \"logs.dir\": \"logs\",\n",
    "    \"hadoop.conf.dir\": \"/etc/hadoop/conf\",\n",
    "    \"hdfs.url\": ”<dtap URL>\",\n",
    "    \"store.url\": ”<dtap URL>\",\n",
    "    \"format.class\": \"io.confluent.connect.hdfs.parquet.ParquetFormat\",\n",
    "    \"schema.registry.url\": \"http://bluedata.schema :8081\",\n",
    "    \"key.converter\": \"io.confluent.connect.avro.AvroConverter\",\n",
    "    \"key.converter.schemas.enable\": \"false\",\n",
    "    \"key.converter.schema.registry.url\": \"http://bluedata.schema:8081\",\n",
    "    \"key.converter.auto.register.schemas\": \"true\",\n",
    "    \"key.subject.name.strategy\": \"TopicNameStrategy\",\n",
    "    \"value.converter\": \"io.confluent.connect.avro.AvroConverter\",\n",
    "    \"value.converter.schemas.enable\": \"false\",\n",
    "    \"value.converter.schema.registry.url\": \"http://bluedata.schema:8081\",\n",
    "    \"value.converter.auto.register.schemas\": \"true\",\n",
    "    \"value.subject.name.strategy\": \"TopicNameStrategy\",\n",
    "    \"errors.log.enable\": \"true\",\n",
    "    \"errors.log.include.messages\": \"true\",\n",
    "    \"flush.size\": \"10\",\n",
    "    \"hive.integration\": \"true\",\n",
    "    \"hive.metastore.uris\": \"thrift:// bluedata.schema :9083\",\n",
    "    \"hive.conf.dir\": \"/etc/hive/conf\",\n",
    "    \"hive.home\": \"hive\",\n",
    "    \"hive.database\": \"\",\n",
    "    \"schema.compatibility\": \"FULL\"\n",
    "  }\n",
    "}\n",
    "```"
   ]
  },
  {
   "cell_type": "markdown",
   "metadata": {
    "slideshow": {
     "slide_type": "slide"
    }
   },
   "source": [
    "<div class=\"slide_header\">\n",
    "    Kafka Connect Source and Sink Demo\n",
    "    <img class='background_header' src='../assets/title_bar.png'/>\n",
    "</div>"
   ]
  },
  {
   "cell_type": "markdown",
   "metadata": {},
   "source": [
    "Verifying data doesn't exists."
   ]
  },
  {
   "cell_type": "code",
   "execution_count": null,
   "metadata": {},
   "outputs": [],
   "source": [
    "ssh -oStrictHostKeyChecking=no -i BD_ndt.pem bnice@172.31.214.29 \"hdfs dfs -ls dtap://l-ndt/clinrpt\""
   ]
  },
  {
   "cell_type": "markdown",
   "metadata": {
    "slideshow": {
     "slide_type": "slide"
    }
   },
   "source": [
    "<div class=\"slide_header\">\n",
    "    Kafka Connect Source and Sink Demo\n",
    "    <img class='background_header' src='../assets/title_bar.png'/>\n",
    "</div>"
   ]
  },
  {
   "cell_type": "markdown",
   "metadata": {},
   "source": [
    "Create ClinRpt Source Connector"
   ]
  },
  {
   "cell_type": "code",
   "execution_count": null,
   "metadata": {
    "cell_style": "center"
   },
   "outputs": [],
   "source": [
    "curl -X POST -H \"Content-Type: application/json\" --data @clinrpt_source.json http://172.31.214.126:8083/connectors > /dev/null 2>&1"
   ]
  },
  {
   "cell_type": "markdown",
   "metadata": {},
   "source": [
    "Create Netezza Sink Connector"
   ]
  },
  {
   "cell_type": "code",
   "execution_count": null,
   "metadata": {},
   "outputs": [],
   "source": [
    "curl -X POST -H \"Content-Type: application/json\" --data @netezza_sink.json http://172.31.214.126:8083/connectors > /dev/null 2>&1"
   ]
  },
  {
   "cell_type": "markdown",
   "metadata": {},
   "source": [
    "Create HDFS and Hive Sink Connector"
   ]
  },
  {
   "cell_type": "code",
   "execution_count": null,
   "metadata": {},
   "outputs": [],
   "source": [
    "curl -X POST -H \"Content-Type: application/json\" --data @hdfs_hive_sink.json http://172.31.214.126:8083/connectors > /dev/null 2>&1"
   ]
  },
  {
   "cell_type": "markdown",
   "metadata": {
    "slideshow": {
     "slide_type": "slide"
    }
   },
   "source": [
    "<div class=\"slide_header\">\n",
    "    Kafka Connect Source and Sink Demo\n",
    "    <img class='background_header' src='../assets/title_bar.png'/>\n",
    "</div>"
   ]
  },
  {
   "cell_type": "markdown",
   "metadata": {},
   "source": [
    "Check if connectors were made."
   ]
  },
  {
   "cell_type": "code",
   "execution_count": null,
   "metadata": {},
   "outputs": [],
   "source": [
    "curl -X GET 172.31.214.126:8083/connectors"
   ]
  },
  {
   "cell_type": "markdown",
   "metadata": {
    "slideshow": {
     "slide_type": "slide"
    }
   },
   "source": [
    "<div class=\"slide_header\">\n",
    "    Kafka Connect Source and Sink Demo\n",
    "    <img class='background_header' src='../assets/title_bar.png'/>\n",
    "</div>"
   ]
  },
  {
   "cell_type": "markdown",
   "metadata": {},
   "source": [
    "Verify data is flowing."
   ]
  },
  {
   "cell_type": "code",
   "execution_count": null,
   "metadata": {
    "cell_style": "center",
    "slideshow": {
     "slide_type": "-"
    }
   },
   "outputs": [],
   "source": [
    "ssh -oStrictHostKeyChecking=no -i BD_ndt.pem bnice@172.31.214.117 \"sudo kafka-avro-console-consumer --bootstrap-server bdp-566.bdplocal:9092 --topic SOURCE.CLINRPT.ACTIVITY_PRIVILEGE_DEFINITION --property schema.registry.url=http://172.31.214.117:8081\""
   ]
  },
  {
   "cell_type": "markdown",
   "metadata": {
    "slideshow": {
     "slide_type": "slide"
    }
   },
   "source": [
    "<div class=\"slide_header\">\n",
    "    Kafka Connect Source and Sink Demo\n",
    "    <img class='background_header' src='../assets/title_bar.png'/>\n",
    "</div>"
   ]
  },
  {
   "cell_type": "markdown",
   "metadata": {},
   "source": [
    "Check data landed in hdfs."
   ]
  },
  {
   "cell_type": "code",
   "execution_count": null,
   "metadata": {},
   "outputs": [],
   "source": [
    "ssh -oStrictHostKeyChecking=no -i BD_ndt.pem bnice@172.31.214.29 \"hdfs dfs -ls dtap://l-ndt/clinrpt\""
   ]
  },
  {
   "cell_type": "markdown",
   "metadata": {
    "slideshow": {
     "slide_type": "slide"
    }
   },
   "source": [
    "<div class=\"slide_header\">\n",
    "    Kafka Connect Source and Sink Demo\n",
    "    <img class='background_header' src='../assets/title_bar.png'/>\n",
    "</div>"
   ]
  },
  {
   "cell_type": "markdown",
   "metadata": {},
   "source": [
    "Remove connectors."
   ]
  },
  {
   "cell_type": "code",
   "execution_count": null,
   "metadata": {
    "slideshow": {
     "slide_type": "-"
    }
   },
   "outputs": [],
   "source": [
    "curl -X DELETE http://172.31.214.126:8083/connectors/SINK.NETEZZA.L_NDT.ACTIVITY_PRIVILEGE_DEFINITION > /dev/null 2>&1\n",
    "curl -X DELETE http://172.31.214.126:8083/connectors/SINK.HIVE.ACTIVITY_PRIVILEGE_DEFINITION > /dev/null 2>&1\n",
    "curl -X DELETE http://172.31.214.126:8083/connectors/SOURCE.CLINRPT.ACTIVITY_PRIVILEGE_DEFINITION > /dev/null 2>&1"
   ]
  },
  {
   "cell_type": "markdown",
   "metadata": {},
   "source": [
    "Remove topics."
   ]
  },
  {
   "cell_type": "code",
   "execution_count": null,
   "metadata": {
    "slideshow": {
     "slide_type": "-"
    }
   },
   "outputs": [],
   "source": [
    "ssh -oStrictHostKeyChecking=no -i BD_ndt.pem bnice@172.31.214.127 \"sudo bash -c 'for topic in \\$(kafka-topics --zookeeper=bdp-563.bdplocal:2181,bdp-564.bdplocal:2181,bdp-565.bdplocal:2181 --list | grep -iE \\\"(cassandra|netezza|clinrpt)\\\"); do kafka-topics --zookeeper=bdp-563.bdplocal:2181,bdp-564.bdplocal:2181,bdp-565.bdplocal:2181 --delete --topic \\${topic}; done;'\""
   ]
  },
  {
   "cell_type": "markdown",
   "metadata": {},
   "source": [
    "Remove data from HDFS."
   ]
  },
  {
   "cell_type": "code",
   "execution_count": null,
   "metadata": {
    "slideshow": {
     "slide_type": "-"
    }
   },
   "outputs": [],
   "source": [
    "ssh -oStrictHostKeyChecking=no -i BD_ndt.pem bnice@172.31.214.29 \"hdfs dfs -rm -r -f -skipTrash dtap://l-ndt/clinrpt/SOURCE.CLINRPT.ACTIVITY_PRIVILEGE_DEFINITION\""
   ]
  }
 ],
 "metadata": {
  "celltoolbar": "Slideshow",
  "kernelspec": {
   "display_name": "Bash",
   "language": "bash",
   "name": "bash"
  },
  "language_info": {
   "codemirror_mode": "shell",
   "file_extension": ".sh",
   "mimetype": "text/x-sh",
   "name": "bash"
  },
  "rise": {
   "enable_chalkboard": true,
   "height": "10%",
   "overlay": "<img class='background_bottom_left' src='../assets/sch.png'/><img class='background_bottom_right' src='../assets/side.png'/>"
  }
 },
 "nbformat": 4,
 "nbformat_minor": 2
}
