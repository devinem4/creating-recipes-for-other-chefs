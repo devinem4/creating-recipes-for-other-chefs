{
 "cells": [
  {
   "cell_type": "markdown",
   "metadata": {
    "slideshow": {
     "slide_type": "slide"
    }
   },
   "source": [
    "<div class='title'>Kafka Connect Demo<br>SCEA Architecture, DevOps, and Neuron</div>\n",
    "<img class='title' src='./assets/title.png'/>"
   ]
  },
  {
   "cell_type": "markdown",
   "metadata": {
    "slideshow": {
     "slide_type": "slide"
    }
   },
   "source": [
    "<div class=\"slide_header\">\n",
    "    Architecture Overview:\n",
    "    <img class='background_header' src='./assets/title_bar.png'/>\n",
    "</div>"
   ]
  },
  {
   "cell_type": "markdown",
   "metadata": {},
   "source": [
    "<img class=\"material\" src=\"./assets/architecture.png\"/>"
   ]
  }
 ],
 "metadata": {
  "celltoolbar": "Slideshow",
  "kernelspec": {
   "display_name": "Python 3",
   "language": "python",
   "name": "python3"
  },
  "language_info": {
   "codemirror_mode": {
    "name": "ipython",
    "version": 3
   },
   "file_extension": ".py",
   "mimetype": "text/x-python",
   "name": "python",
   "nbconvert_exporter": "python",
   "pygments_lexer": "ipython3",
   "version": "3.7.3"
  },
  "livereveal": {
   "autolaunch": true
  },
  "rise": {
   "enable_chalkboard": true,
   "height": "10%",
   "overlay": "<img class='background_bottom_left' src='../assets/sch.png'/><img class='background_bottom_right' src='../assets/side.png'/>"
  }
 },
 "nbformat": 4,
 "nbformat_minor": 2
}
