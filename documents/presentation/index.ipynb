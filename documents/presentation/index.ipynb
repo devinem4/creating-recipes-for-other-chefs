{
 "cells": [
  {
   "cell_type": "markdown",
   "metadata": {
    "slideshow": {
     "slide_type": "slide"
    }
   },
   "source": [
    "<div class='title'>Kafka Connect Demo<br>SCEA Architecture, DevOps, and Neuron</div>\n",
    "<img class='title' src='./assets/title.png'/>"
   ]
  },
  {
   "cell_type": "markdown",
   "metadata": {
    "slideshow": {
     "slide_type": "slide"
    }
   },
   "source": [
    "<div class=\"slide_header\">\n",
    "    Architecture Overview:\n",
    "    <img class='background_header' src='./assets/title_bar.png'/>\n",
    "</div>"
   ]
  },
  {
   "cell_type": "markdown",
   "metadata": {},
   "source": [
    "<img class=\"material\" src=\"./assets/architecture.png\"/>"
   ]
  }
 ],
 "metadata": {
  "celltoolbar": "Slideshow",
  "kernelspec": {
   "display_name": "Bash",
   "language": "bash",
   "name": "bash"
  },
  "language_info": {
   "codemirror_mode": "shell",
   "file_extension": ".sh",
   "mimetype": "text/x-sh",
   "name": "bash"
  },
  "livereveal": {
   "autolaunch": true
  },
  "rise": {
   "enable_chalkboard": true,
   "height": "10%",
   "overlay": "<img class='background_bottom_left' src='../assets/sch.png'/><img class='background_bottom_right' src='../assets/side.png'/>"
  }
 },
 "nbformat": 4,
 "nbformat_minor": 2
}
